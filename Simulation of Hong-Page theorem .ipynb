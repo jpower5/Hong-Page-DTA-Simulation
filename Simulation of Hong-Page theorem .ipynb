{
 "cells": [
  {
   "cell_type": "markdown",
   "id": "82781fe8",
   "metadata": {},
   "source": [
    "### Simulation of the Hong-Page \"Diversity Trumps Ability\" Argument "
   ]
  },
  {
   "cell_type": "markdown",
   "id": "4840735f",
   "metadata": {},
   "source": [
    "This script recreates the simulation results of the Hong Page (2004) \"diversity trumps ability\" (DTA) argument for finite populations. "
   ]
  },
  {
   "cell_type": "code",
   "execution_count": 1,
   "id": "75bc29c1",
   "metadata": {},
   "outputs": [],
   "source": [
    "# Import libraries\n",
    "import random\n",
    "import numpy as np\n",
    "import statistics\n",
    "import pandas as pd\n",
    "from IPython.display import display\n",
    "import time\n",
    "import itertools\n",
    "import json"
   ]
  },
  {
   "cell_type": "code",
   "execution_count": 2,
   "id": "2e9a11e7",
   "metadata": {},
   "outputs": [],
   "source": [
    "# Inputs:\n",
    "\n",
    "# In Hong-Page paper, main results are for n = 2,000, l = 12 or 20, k = 3\n",
    "# They experimented with l varying between 6 and 20, k varying between 2 and 7, and n varying \n",
    "# between 200 and 10,000. Within these parameter ranges, they found qualitatively similar phenomena.\n",
    "\n",
    "# Number of integers in X\n",
    "n = 100\n",
    "\n",
    "# 1 <= k < l < n\n",
    "l = 20\n",
    "k = 3"
   ]
  },
  {
   "cell_type": "code",
   "execution_count": 3,
   "id": "a0e51045",
   "metadata": {},
   "outputs": [
    {
     "name": "stdout",
     "output_type": "stream",
     "text": [
      "The total number of possible agent heuristics in this model is:  6840\n"
     ]
    }
   ],
   "source": [
    "# Number of unique heuristics (agents in model) = l*(l-1)*...*(l-k+1) :\n",
    "lst = [l-i for i in range(0,k)]\n",
    "n_heuristics = np.prod(lst) \n",
    "\n",
    "print('The total number of possible agent heuristics in this model is: ',n_heuristics)"
   ]
  },
  {
   "cell_type": "code",
   "execution_count": 4,
   "id": "67f0ac26",
   "metadata": {},
   "outputs": [],
   "source": [
    "# The value of each of the n points is independently drawn according to the uniform distribution on the interval [0, 100].\n",
    "X = [random.randint(0,100) for i in range(1,n+1)]"
   ]
  },
  {
   "cell_type": "code",
   "execution_count": 5,
   "id": "c754b61d",
   "metadata": {},
   "outputs": [
    {
     "data": {
      "text/plain": [
       "6840"
      ]
     },
     "execution_count": 5,
     "metadata": {},
     "output_type": "execute_result"
    }
   ],
   "source": [
    "# An agent, alpha, is a list of k distinct integers in [1, . . . , l] which they use to find the maximum value of V.\n",
    "# An agents heuristics is given by PHI = (PHI1, PHI2, .... ,PHIk) where each PHIi is in the set {1,2,...,l}  \n",
    "\n",
    "# Find list of all possible combinations given k and l\n",
    "lists = [list(range(1,l+1))]*k\n",
    "all_combinations = list(itertools.product(*lists))\n",
    "\n",
    "# Python code to remove elements which do not have 3 distinct integers \n",
    "def Remove(non_distinct):\n",
    "    final_list = []\n",
    "    for x in non_distinct:\n",
    "        if len(x) > len(set(x)):\n",
    "            pass\n",
    "        else:\n",
    "            final_list.append(x)\n",
    "    \n",
    "    return final_list\n",
    "\n",
    "agent_heuristics = Remove(all_combinations)\n",
    "\n",
    "len(agent_heuristics)"
   ]
  },
  {
   "cell_type": "code",
   "execution_count": 6,
   "id": "35c4ee5e",
   "metadata": {},
   "outputs": [],
   "source": [
    "# Agent methodology for maximizing V\n",
    "    \n",
    "def max_method(agent_heuristic, starting_point_index_input):\n",
    "    #starting_point_index = random.randint(0,n-1)\n",
    "    starting_point_index = starting_point_index_input\n",
    "    starting_point = X[starting_point_index]\n",
    "    \n",
    "    #max_value_index = starting_point_index\n",
    "    #max_value = starting_point\n",
    "    \n",
    "    # Initialize max index, position and score values\n",
    "    max_index_values = [starting_point_index]\n",
    "    position_values = [0]\n",
    "    score = [1]\n",
    "    \n",
    "    while 1 in score:\n",
    "        position = position_values[0]\n",
    "        \n",
    "        # Account for new agent heuristic ordering (it doesn't reset to start after every change in new max value)\n",
    "        agent_heuristic_new = [a for a in agent_heuristic[position:]]\n",
    "        for a in agent_heuristic[:position]:\n",
    "            agent_heuristic_new.append(a)\n",
    "            agent_heuristic = agent_heuristic_new\n",
    "        \n",
    "        max_value_index = max_index_values[0]\n",
    "        max_value = X[max_value_index]\n",
    "        \n",
    "        # Clear max index, position and score values\n",
    "        max_index_values = []\n",
    "        position_values = []\n",
    "        position = 0\n",
    "        score = []\n",
    "        \n",
    "        for i in range(0,len(agent_heuristic)):\n",
    "            position = position + 1\n",
    "            if max_value_index+agent_heuristic[i] > n-1:\n",
    "                if X[max_value_index+agent_heuristic[i]-n] < max_value:\n",
    "                    score.append(0)\n",
    "                \n",
    "                else:\n",
    "                    max_value_index = max_value_index+agent_heuristic[i]-n\n",
    "                    max_value = X[max_value_index]\n",
    "                    \n",
    "                    max_index_values.append(max_value_index)\n",
    "                    position_values.append(position)\n",
    "                    score.append(1)\n",
    "            \n",
    "\n",
    "            else:\n",
    "                if X[max_value_index+agent_heuristic[i]] < max_value:\n",
    "                    score.append(0)\n",
    "                    \n",
    "                else:\n",
    "                    max_value_index = max_value_index+agent_heuristic[i]\n",
    "                    max_value = X[max_value_index]\n",
    "                    \n",
    "                    max_index_values.append(max_value_index)\n",
    "                    position_values.append(position)\n",
    "                    score.append(1)\n",
    "            \n",
    "        \n",
    "        max_value = X[max_value_index] \n",
    "        \n",
    "    return max_value_index, max_value"
   ]
  },
  {
   "cell_type": "code",
   "execution_count": 7,
   "id": "28f0d733",
   "metadata": {},
   "outputs": [],
   "source": [
    "start_time = time.time()"
   ]
  },
  {
   "cell_type": "code",
   "execution_count": 8,
   "id": "129ee2f0",
   "metadata": {},
   "outputs": [],
   "source": [
    "# Calculate each agent's score by the expected value of the stopping points from each possible initial starting point\n",
    "# It is assumed each possible initial starting point is equally likely to occur\n",
    "\n",
    "dict_scores = {}\n",
    "\n",
    "for heuristic in agent_heuristics:\n",
    "    scores = []\n",
    "    for z in range(0,n):\n",
    "        scores.append(max_method(heuristic,z)[-1])\n",
    "        dict_scores[str(heuristic)] = statistics.mean(scores)\n",
    "\n"
   ]
  },
  {
   "cell_type": "code",
   "execution_count": 9,
   "id": "9c66473c",
   "metadata": {},
   "outputs": [
    {
     "name": "stdout",
     "output_type": "stream",
     "text": [
      "It took 36.38 seconds to run each agent's expected score.\n"
     ]
    }
   ],
   "source": [
    "end_time = time.time()\n",
    "print(f\"It took {end_time-start_time:.2f} seconds to run each agent's expected score.\") "
   ]
  },
  {
   "cell_type": "code",
   "execution_count": 28,
   "id": "41367bec",
   "metadata": {},
   "outputs": [
    {
     "data": {
      "text/html": [
       "<div>\n",
       "<style scoped>\n",
       "    .dataframe tbody tr th:only-of-type {\n",
       "        vertical-align: middle;\n",
       "    }\n",
       "\n",
       "    .dataframe tbody tr th {\n",
       "        vertical-align: top;\n",
       "    }\n",
       "\n",
       "    .dataframe thead th {\n",
       "        text-align: right;\n",
       "    }\n",
       "</style>\n",
       "<table border=\"1\" class=\"dataframe\">\n",
       "  <thead>\n",
       "    <tr style=\"text-align: right;\">\n",
       "      <th></th>\n",
       "      <th>Heuristic/Agent</th>\n",
       "      <th>Average Value</th>\n",
       "    </tr>\n",
       "  </thead>\n",
       "  <tbody>\n",
       "    <tr>\n",
       "      <th>0</th>\n",
       "      <td>[1, 14, 11]</td>\n",
       "      <td>91.60</td>\n",
       "    </tr>\n",
       "    <tr>\n",
       "      <th>1</th>\n",
       "      <td>[11, 1, 14]</td>\n",
       "      <td>91.59</td>\n",
       "    </tr>\n",
       "    <tr>\n",
       "      <th>2</th>\n",
       "      <td>[7, 9, 14]</td>\n",
       "      <td>91.39</td>\n",
       "    </tr>\n",
       "    <tr>\n",
       "      <th>3</th>\n",
       "      <td>[11, 14, 1]</td>\n",
       "      <td>91.34</td>\n",
       "    </tr>\n",
       "    <tr>\n",
       "      <th>4</th>\n",
       "      <td>[1, 11, 14]</td>\n",
       "      <td>91.33</td>\n",
       "    </tr>\n",
       "    <tr>\n",
       "      <th>5</th>\n",
       "      <td>[6, 14, 2]</td>\n",
       "      <td>91.28</td>\n",
       "    </tr>\n",
       "    <tr>\n",
       "      <th>6</th>\n",
       "      <td>[16, 14, 11]</td>\n",
       "      <td>91.23</td>\n",
       "    </tr>\n",
       "    <tr>\n",
       "      <th>7</th>\n",
       "      <td>[7, 14, 9]</td>\n",
       "      <td>91.16</td>\n",
       "    </tr>\n",
       "    <tr>\n",
       "      <th>8</th>\n",
       "      <td>[9, 7, 14]</td>\n",
       "      <td>91.15</td>\n",
       "    </tr>\n",
       "    <tr>\n",
       "      <th>9</th>\n",
       "      <td>[5, 16, 14]</td>\n",
       "      <td>91.14</td>\n",
       "    </tr>\n",
       "  </tbody>\n",
       "</table>\n",
       "</div>"
      ],
      "text/plain": [
       "  Heuristic/Agent  Average Value\n",
       "0     [1, 14, 11]          91.60\n",
       "1     [11, 1, 14]          91.59\n",
       "2      [7, 9, 14]          91.39\n",
       "3     [11, 14, 1]          91.34\n",
       "4     [1, 11, 14]          91.33\n",
       "5      [6, 14, 2]          91.28\n",
       "6    [16, 14, 11]          91.23\n",
       "7      [7, 14, 9]          91.16\n",
       "8      [9, 7, 14]          91.15\n",
       "9     [5, 16, 14]          91.14"
      ]
     },
     "metadata": {},
     "output_type": "display_data"
    }
   ],
   "source": [
    "# Top 10 best performing agents/heuristics \n",
    "\n",
    "# Number assessed can be inputed, here the default is the top 10 individuals \n",
    "num_assessed = 10 \n",
    "\n",
    "#dict1 = {1: 1, 2: 9, 3: 4}\n",
    "sorted_dict = {}\n",
    "sorted_keys = sorted(dict_scores, key=dict_scores.get, reverse=True)  # [1, 3, 2]\n",
    "\n",
    "# Convert string values to array\n",
    "\n",
    "# ability_group = [json.loads(i) for i in sorted_keys[:num_assessed]]\n",
    "\n",
    "# JSON not working for some reason so using alternative code:\n",
    "ability_group = [ [int(x) for x in i[1:-1].split(', ')] for i in sorted_keys[:num_assessed]]\n",
    "\n",
    "\n",
    "# Initialize data of lists\n",
    "data = {'Heuristic/Agent':ability_group,\n",
    "        'Average Value':[dict_scores[i] for i in sorted_keys[:num_assessed]]}\n",
    "  \n",
    "# Create DataFrame of top 10 performers\n",
    "ability_group_df = pd.DataFrame(data)\n",
    "  \n",
    "# Print the output.\n",
    "display(ability_group_df)"
   ]
  },
  {
   "cell_type": "code",
   "execution_count": 29,
   "id": "83deee37",
   "metadata": {},
   "outputs": [
    {
     "name": "stdout",
     "output_type": "stream",
     "text": [
      "[(7, 3, 11), (8, 2, 18), (15, 7, 19), (16, 4, 14), (7, 15, 6), (9, 12, 8), (1, 16, 8), (4, 16, 7), (17, 20, 5), (10, 16, 3)]\n"
     ]
    }
   ],
   "source": [
    "# Now we take 10 random individuals from population of heuristics using the sample() method (without replacement)\n",
    "\n",
    "random_group = random.sample(agent_heuristics, num_assessed)\n",
    "\n",
    "print(random_group)"
   ]
  },
  {
   "cell_type": "code",
   "execution_count": 30,
   "id": "9167814d",
   "metadata": {},
   "outputs": [
    {
     "name": "stdout",
     "output_type": "stream",
     "text": [
      "Number of possible unique pairs is:  45.0\n",
      "Random group diversity score is: 130\n",
      "Ability group diversity score is: 111\n"
     ]
    }
   ],
   "source": [
    "# Calculate the diversity score of both groups\n",
    "\n",
    "# Number of unique paris in population is given by: n(n-1)/2\n",
    "print('Number of possible unique pairs is: ',str(num_assessed*(num_assessed-1)/2))\n",
    "\n",
    "# Function which returns subset or r length from n\n",
    "from itertools import combinations\n",
    "  \n",
    "def rSubset(arr, r):\n",
    "  \n",
    "    # return list of all subsets of length r\n",
    "    # to deal with duplicate subsets use \n",
    "    # set(list(combinations(arr, r)))\n",
    "    \n",
    "    return list(combinations(arr, r))\n",
    "\n",
    "# Random group diversity score:\n",
    "random_diversity_scores = []\n",
    "\n",
    "for i in rSubset(random_group,2):\n",
    "    a = i[0]\n",
    "    b = i[-1]\n",
    "    for x in range(0,len(a)):\n",
    "        if a[x] != b[x]:\n",
    "            random_diversity_scores.append(1)\n",
    "            \n",
    "random_diversity_score = len(random_diversity_scores)\n",
    "        \n",
    "print('Random group diversity score is:',str(random_diversity_score))\n",
    "\n",
    "# Ability group diversity score:\n",
    "ability_diversity_scores = []\n",
    "\n",
    "for i in rSubset(ability_group,2):\n",
    "    a = i[0]\n",
    "    b = i[-1]\n",
    "    for x in range(0,len(a)):\n",
    "        if a[x] != b[x]:\n",
    "            ability_diversity_scores.append(1)\n",
    "            \n",
    "ability_diversity_score = len(ability_diversity_scores)\n",
    "        \n",
    "print('Ability group diversity score is:',str(ability_diversity_score))"
   ]
  },
  {
   "cell_type": "code",
   "execution_count": 31,
   "id": "7be36cfe",
   "metadata": {},
   "outputs": [
    {
     "name": "stdout",
     "output_type": "stream",
     "text": [
      "98.01\n"
     ]
    }
   ],
   "source": [
    "# Collective performance of ability agents \n",
    "\n",
    "collective_scores = []\n",
    "for z in range(0,n):\n",
    "    max_index = z\n",
    "    \n",
    "    score = [1]\n",
    "    \n",
    "    while 1 in score:\n",
    "        score = []\n",
    "        \n",
    "        for i in range(0,len(ability_group)):\n",
    "            if max_method(ability_group[i],max_index)[0] == max_index:\n",
    "                score.append(0)\n",
    "                pass\n",
    "            \n",
    "            else:\n",
    "                new_max_index = max_method(ability_group[i],max_index)[0]\n",
    "                max_index = new_max_index \n",
    "                score.append(1)\n",
    "    \n",
    "    max_value = X[max_index]\n",
    "    collective_scores.append(max_value)\n",
    "    \n",
    "ability_collective_score = round(statistics.mean(collective_scores),2)\n",
    "print(ability_collective_score)"
   ]
  },
  {
   "cell_type": "code",
   "execution_count": 32,
   "id": "ba36c911",
   "metadata": {},
   "outputs": [
    {
     "name": "stdout",
     "output_type": "stream",
     "text": [
      "98.4\n"
     ]
    }
   ],
   "source": [
    "# Collective performance of random agents \n",
    "\n",
    "collective_scores = []\n",
    "for z in range(0,n):\n",
    "    max_index = z\n",
    "    \n",
    "    score = [1]\n",
    "    \n",
    "    while 1 in score:\n",
    "        score = []\n",
    "        \n",
    "        for i in range(0,len(random_group)):\n",
    "            if max_method(random_group[i],max_index)[0] == max_index:\n",
    "                score.append(0)\n",
    "                pass\n",
    "            \n",
    "            else:\n",
    "                new_max_index = max_method(random_group[i],max_index)[0]\n",
    "                max_index = new_max_index \n",
    "                score.append(1)\n",
    "                       \n",
    "    max_value = X[max_index]\n",
    "    collective_scores.append(max_value)\n",
    "    \n",
    "random_collective_score = round(statistics.mean(collective_scores),2)\n",
    "print(random_collective_score)"
   ]
  },
  {
   "cell_type": "code",
   "execution_count": 33,
   "id": "424551b2",
   "metadata": {},
   "outputs": [
    {
     "data": {
      "text/html": [
       "<div>\n",
       "<style scoped>\n",
       "    .dataframe tbody tr th:only-of-type {\n",
       "        vertical-align: middle;\n",
       "    }\n",
       "\n",
       "    .dataframe tbody tr th {\n",
       "        vertical-align: top;\n",
       "    }\n",
       "\n",
       "    .dataframe thead th {\n",
       "        text-align: right;\n",
       "    }\n",
       "</style>\n",
       "<table border=\"1\" class=\"dataframe\">\n",
       "  <thead>\n",
       "    <tr style=\"text-align: right;\">\n",
       "      <th></th>\n",
       "      <th></th>\n",
       "      <th>Performance (Average Score of Group)</th>\n",
       "      <th>Diversity</th>\n",
       "    </tr>\n",
       "  </thead>\n",
       "  <tbody>\n",
       "    <tr>\n",
       "      <th>0</th>\n",
       "      <td>Best Agents</td>\n",
       "      <td>98.01</td>\n",
       "      <td>111</td>\n",
       "    </tr>\n",
       "    <tr>\n",
       "      <th>1</th>\n",
       "      <td>Random Agents</td>\n",
       "      <td>98.40</td>\n",
       "      <td>130</td>\n",
       "    </tr>\n",
       "  </tbody>\n",
       "</table>\n",
       "</div>"
      ],
      "text/plain": [
       "                  Performance (Average Score of Group)  Diversity\n",
       "0    Best Agents                                 98.01        111\n",
       "1  Random Agents                                 98.40        130"
      ]
     },
     "metadata": {},
     "output_type": "display_data"
    }
   ],
   "source": [
    "# Summary Table \n",
    "\n",
    "# Initialize data of lists\n",
    "summary_table_data = {'': ['Best Agents','Random Agents'],\n",
    "                      \"Performance (Average Score of Group)\":[ability_collective_score,random_collective_score],\n",
    "                      \"Diversity\": [ability_diversity_score,random_diversity_score]}\n",
    "\n",
    "# Create DataFrame of top 10 performers\n",
    "summary_table_df = pd.DataFrame(summary_table_data)\n",
    "  \n",
    "display(summary_table_df)"
   ]
  },
  {
   "cell_type": "markdown",
   "id": "bc0ed2f1",
   "metadata": {},
   "source": [
    "Therefore, the simulation results show that groups of more diverse individuals collectively perform groups of high ability agents (hence the DTA argument). However, in reality this is just an example of the benefits of randomization. Thompson (2014) refutes the DTA argument by showing that the mathematical theorem for infinite populations is incorrect as stated originally and trivial once corrected. While the simulations for finite populations are contrived optimization problems where the restrictions on the algorithms are artificial and simply illustrate the benefits of randomness and not “diversity”, an already well-known fact in computational theory (Mitzenmacher and Upfal, 2005). "
   ]
  },
  {
   "cell_type": "markdown",
   "id": "f1e1e608",
   "metadata": {},
   "source": [
    "#### References\n",
    "\n",
    "- Hong, L., Page, S., (2004). “Groups of diverse problem solvers can outperform groups of high-ability problem solvers”. PNAS 101(46):16385–89.\n",
    "- Mitzenmacher, M., Upfal, E., (2005). “Probability and Computing”. Cambridge University Press.\n",
    "- Thompson, A., (2014). “Does diversity trump ability? An example of the misuse of mathematics in the social sciences”. Notices AMS 61(9):1024–30.\n"
   ]
  }
 ],
 "metadata": {
  "kernelspec": {
   "display_name": "Python 3 (ipykernel)",
   "language": "python",
   "name": "python3"
  },
  "language_info": {
   "codemirror_mode": {
    "name": "ipython",
    "version": 3
   },
   "file_extension": ".py",
   "mimetype": "text/x-python",
   "name": "python",
   "nbconvert_exporter": "python",
   "pygments_lexer": "ipython3",
   "version": "3.8.12"
  }
 },
 "nbformat": 4,
 "nbformat_minor": 5
}
